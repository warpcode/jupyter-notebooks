{
  "nbformat": 4,
  "nbformat_minor": 0,
  "metadata": {
    "colab": {
      "name": "restic.ipynb",
      "private_outputs": true,
      "provenance": []
    },
    "kernelspec": {
      "name": "python3",
      "display_name": "Python 3"
    },
    "language_info": {
      "name": "python"
    }
  },
  "cells": [
    {
      "cell_type": "markdown",
      "metadata": {
        "id": "RJ6bGWEB-OT-"
      },
      "source": [
        "Setup rclone and restic\n"
      ]
    },
    {
      "cell_type": "code",
      "metadata": {
        "id": "dk4xVjfM9j8j"
      },
      "source": [
        "%env RESTIC_REPOSITORY=rclone:dest:colab\n",
        "%env RESTIC_PASSWORD=CHANGEME\n",
        "%env RESTIC_HOST=google-colab\n",
        "%env DEST_PATH=local:/content/dest\n",
        "\n",
        "!mkdir -p /root/.config/rclone/\n",
        "!mkdir -p \"/content/source/\"\n",
        "!mkdir -p \"/content/data/\"\n",
        "!mv /content/sample_data /content/data/sample_data\n",
        "!mkdir -p /content/dest\n",
        "\n",
        "!curl https://rclone.org/install.sh | sudo bash\n",
        "\n",
        "!curl -L https://github.com/restic/restic/releases/download/v0.12.0/restic_0.12.0_linux_amd64.bz2 | bunzip2 > /usr/bin/restic\n",
        "!chmod +x /usr/bin/restic\n",
        "\n",
        "!rclone --version\n",
        "!restic version"
      ],
      "execution_count": null,
      "outputs": []
    },
    {
      "cell_type": "markdown",
      "metadata": {
        "id": "LbJv8tjs_t-0"
      },
      "source": [
        "Generate rclone.conf\n",
        "\n",
        "By default, this script looks for source and dest.\n",
        "\n",
        "Set up these 2 configs for the script to work"
      ]
    },
    {
      "cell_type": "code",
      "metadata": {
        "id": "BvGzIMmo_vvP"
      },
      "source": [
        "%%shell\n",
        "\n",
        "cat > /root/.config/rclone/rclone.conf <<CONFIG\n",
        "[local]\n",
        "type = local\n",
        "\n",
        "[source]\n",
        "type = alias\n",
        "remote = local:/content/data\n",
        "\n",
        "[dest]\n",
        "type = alias\n",
        "remote = ${DEST_PATH}\n",
        "CONFIG\n",
        "\n",
        "cat /root/.config/rclone/rclone.conf"
      ],
      "execution_count": null,
      "outputs": []
    },
    {
      "cell_type": "markdown",
      "metadata": {
        "id": "dUUdyM-rJ8QC"
      },
      "source": [
        "Init the repository if required"
      ]
    },
    {
      "cell_type": "code",
      "metadata": {
        "id": "w8mJa_gnKihE"
      },
      "source": [
        "!restic init"
      ],
      "execution_count": null,
      "outputs": []
    },
    {
      "cell_type": "markdown",
      "metadata": {
        "id": "qSf4B4f4Zhcs"
      },
      "source": [
        "Mount the source directory if required"
      ]
    },
    {
      "cell_type": "code",
      "metadata": {
        "id": "xSXNeB5pZj1O"
      },
      "source": [
        "%%shell\n",
        "mounts=(\\\n",
        "    \"sample_data\"\\\n",
        ")\n",
        "\n",
        "backups=(\\\n",
        "    \"sample_data\"\\\n",
        ")\n",
        "\n",
        "\n",
        "# Iterate the string array using for loop\n",
        "for mount in \"${mounts[@]}\"; do\n",
        "    mkdir -p  \"/content/source/$mount\"\n",
        "    rclone mount \"source:/$mount\" \"/content/source/$mount\" --daemon\n",
        "    sleep 5\n",
        "done\n",
        "\n",
        "sleep 5\n",
        "\n",
        "for backup in \"${backups[@]}\"; do\n",
        "    restic backup --verbose --host \"$RESTIC_HOST\" \"/content/source/$backup\"\n",
        "done\n",
        "\n",
        "# Iterate the string array using for loop\n",
        "for val in \"${mounts[@]}\"; do\n",
        "    umount \"/content/source/$val\"\n",
        "done\n",
        "\n",
        "# keep the most recent snapshot per path\n",
        "restic forget --host \"$RESTIC_HOST\" -l 1\n",
        "restic snapshots"
      ],
      "execution_count": null,
      "outputs": []
    },
    {
      "cell_type": "code",
      "metadata": {
        "id": "CD6wVaHTUfda"
      },
      "source": [
        "!restic unlock --remove-all\n",
        "!restic forget --host \"$RESTIC_HOST\" -l 1\n",
        "!restic snapshots"
      ],
      "execution_count": null,
      "outputs": []
    }
  ]
}
