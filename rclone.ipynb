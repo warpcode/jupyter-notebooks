{
  "nbformat": 4,
  "nbformat_minor": 0,
  "metadata": {
    "colab": {
      "name": "restic.ipynb",
      "private_outputs": true,
      "provenance": []
    },
    "kernelspec": {
      "name": "python3",
      "display_name": "Python 3"
    },
    "language_info": {
      "name": "python"
    }
  },
  "cells": [
    {
      "cell_type": "markdown",
      "metadata": {
        "id": "RJ6bGWEB-OT-"
      },
      "source": [
        "Setup rclone\n"
      ]
    },
    {
      "cell_type": "code",
      "metadata": {
        "id": "dk4xVjfM9j8j"
      },
      "source": [
        "!curl https://rclone.org/install.sh | sudo bash\n",
        "!rclone --version"
      ],
      "execution_count": null,
      "outputs": []
    },
    {
      "cell_type": "markdown",
      "metadata": {
        "id": "LbJv8tjs_t-0"
      },
      "source": [
        "Generate rclone.conf"
      ]
    },
    {
      "cell_type": "code",
      "metadata": {
        "id": "BvGzIMmo_vvP"
      },
      "source": [
        "%%shell\n",
        "\n",
        "cat > /root/.config/rclone/rclone.conf <<CONFIG\n",
        "[local]\n",
        "type = local\n",
        "\n",
        "[dest]\n",
        "type = alias\n",
        "remote = local:/content/dest\n",
        "CONFIG\n",
        "\n",
        "cat /root/.config/rclone/rclone.conf"
      ],
      "execution_count": null,
      "outputs": []
    },
    {
      "cell_type": "markdown",
      "metadata": {
        "id": "qSf4B4f4Zhcs"
      },
      "source": [
        "Run rclone"
      ]
    },
    {
      "cell_type": "code",
      "metadata": {
        "id": "xSXNeB5pZj1O"
      },
      "source": [
        "%%shell\n",
        "rclone sync --progress -v /content/sample_data dest:"
      ],
      "execution_count": null,
      "outputs": []
    }
  ]
}
